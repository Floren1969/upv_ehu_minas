{
 "cells": [
  {
   "cell_type": "markdown",
   "metadata": {},
   "source": [
    "# NoteBook-en berezitasunak"
   ]
  },
  {
   "cell_type": "markdown",
   "metadata": {},
   "source": [
    "Para escribir codigo de Python en una Celda y poder ejecutarla se usa el tipo de celda Code y debes de dar Shift+Enter para ejecutarla o Ctrol+Enter"
   ]
  },
  {
   "cell_type": "code",
   "execution_count": 10,
   "metadata": {
    "collapsed": false
   },
   "outputs": [
    {
     "data": {
      "text/plain": [
       "2"
      ]
     },
     "execution_count": 10,
     "metadata": {},
     "output_type": "execute_result"
    }
   ],
   "source": [
    "a=1;b=1\n",
    "a+b"
   ]
  },
  {
   "cell_type": "markdown",
   "metadata": {},
   "source": [
    "Si quieres recuperar  el output en cualquier momento debes de poner _numeroCelda, por ejemplo"
   ]
  },
  {
   "cell_type": "code",
   "execution_count": 11,
   "metadata": {
    "collapsed": false
   },
   "outputs": [
    {
     "data": {
      "text/plain": [
       "2"
      ]
     },
     "execution_count": 11,
     "metadata": {},
     "output_type": "execute_result"
    }
   ],
   "source": [
    "_10"
   ]
  },
  {
   "cell_type": "markdown",
   "metadata": {},
   "source": [
    "Puedes poner en una celda código de latex ($$ o $$$$ ) o tipo de letra, negrita etc pero el tipo de celda es MarkDown.\n",
    "\n",
    "Si quieres poner texto sólo el tipo sería RawNBConvert\n",
    "\n",
    "Para hacer capitulos secciones etc de manera automatizada tenemos: #primer nivel ##segundonivel etc #####.....## nesimo nivel\n",
    "\n",
    "Sobre una celda de tipo code puedes hacer tabulador y te desplegará los comandos y variables que tengas en el Notebook"
   ]
  },
  {
   "cell_type": "markdown",
   "metadata": {},
   "source": [
    "Esta celda es de tipo Markdown y entonces se pueden hacer muchas cosas:\n",
    "**Negrita** o __Negrita__\n",
    "*Italica* o _Italica_\n",
    "**Negrita y luego _Italica_**"
   ]
  },
  {
   "cell_type": "markdown",
   "metadata": {},
   "source": [
    "Para marcar con una vertical a izquierda de texto y hace un salto de parrafo antes y despues\n",
    ">Pepe\n",
    "\n",
    "Para marcar un códido como literal uso las comillas `print()` comando\n",
    ">Juan"
   ]
  },
  {
   "cell_type": "markdown",
   "metadata": {},
   "source": [
    "Para que sea unos codigos en distintas lineas usas ```    ```` y salta parrafo :\n",
    "```\n",
    "git uno\n",
    "goit dos\n",
    "git tres\n",
    "```\n",
    "sigo por aquí"
   ]
  },
  {
   "cell_type": "markdown",
   "metadata": {},
   "source": [
    "Puedes hacer que ponga código de Mathematica de una manera muy simple con ```nombreprograma\n",
    "```mathematica\n",
    "Plot[x,{x,0,1}]\n",
    "```"
   ]
  },
  {
   "cell_type": "markdown",
   "metadata": {},
   "source": [
    "Puedo hacer código python:\n",
    "```python\n",
    "def f(x):\n",
    "    return(x)\n",
    "```"
   ]
  },
  {
   "cell_type": "markdown",
   "metadata": {},
   "source": [
    "Lo siguiente lo hago luego con código html. Puedes importar una imagen como png e insertarla en el notebook\n",
    "![ranita](/files/rana.png), me sé la ruta porque desde jupyter puedo ver con botón derecho la ruta de la imagen que he subidoa jupyter con uploag"
   ]
  },
  {
   "cell_type": "markdown",
   "metadata": {},
   "source": [
    "Para links que te lleven a urls usas []()\n",
    "Así la pagina de la uni es: [upv](hpp:\\\\www.ehu.eus)"
   ]
  },
  {
   "cell_type": "markdown",
   "metadata": {},
   "source": [
    "Para las lista antepone * o - y se pueden anidar\n",
    " * Uno\n",
    " * Dos\n",
    " * Tres"
   ]
  },
  {
   "cell_type": "markdown",
   "metadata": {},
   "source": [
    "- Uno\n",
    "- Dos\n",
    "- Tres"
   ]
  },
  {
   "cell_type": "markdown",
   "metadata": {},
   "source": [
    "Si quieres numeros pues lo pones:\n",
    "1. Uno\n",
    "2. Dos\n",
    "3. Tres\n",
    "    * cambio 1\n",
    "    * cambio 2\n",
    "    * cambio 3\n",
    "    "
   ]
  },
  {
   "cell_type": "markdown",
   "metadata": {},
   "source": [
    "Texto resaltado `para resaltar`. Lo siguiente mantiene el esquema resaltado"
   ]
  },
  {
   "cell_type": "markdown",
   "metadata": {},
   "source": [
    "```\n",
    "git status\n",
    "git add\n",
    "git commit\n",
    "```\n"
   ]
  },
  {
   "cell_type": "markdown",
   "metadata": {},
   "source": [
    "Puedes poner emoticonos entre :laughing: que lo encuentras en http://www.emoji-cheat-sheet.com/"
   ]
  },
  {
   "cell_type": "raw",
   "metadata": {},
   "source": [
    "Usando % puedes ejecutar comando que son propios de ipython y que miras en internet"
   ]
  },
  {
   "cell_type": "code",
   "execution_count": 8,
   "metadata": {
    "collapsed": false
   },
   "outputs": [
    {
     "data": {
      "text/plain": [
       "'C:\\\\Users\\\\mapgaurf\\\\Documents'"
      ]
     },
     "execution_count": 8,
     "metadata": {},
     "output_type": "execute_result"
    }
   ],
   "source": [
    "%pwd"
   ]
  },
  {
   "cell_type": "code",
   "execution_count": 10,
   "metadata": {
    "collapsed": false
   },
   "outputs": [
    {
     "name": "stdout",
     "output_type": "stream",
     "text": [
      " El volumen de la unidad C es SISTEMA\n",
      " El n£mero de serie del volumen es: AAB4-DC8D\n",
      "\n",
      " Directorio de C:\\Users\\mapgaurf\\Documents\n",
      "\n",
      "12/04/2016  11:48    <DIR>          .\n",
      "12/04/2016  11:48    <DIR>          ..\n",
      "11/04/2016  11:45    <DIR>          .ipynb_checkpoints\n",
      "02/03/2016  13:49                 0 .Rhistory\n",
      "12/04/2016  11:48             7.740 IniciosConElNoteBook.ipynb\n",
      "16/10/2013  12:29    <DIR>          MediaHub\n",
      "14/03/2016  11:07    <DIR>          Python Scripts\n",
      "02/03/2016  10:43    <DIR>          R\n",
      "12/04/2016  11:23           103.165 rana.png\n",
      "11/03/2016  12:50         2.695.965 TutorialPython3.pdf\n",
      "11/04/2016  11:36                 0 untitled.txt\n",
      "02/03/2016  10:41    <DIR>          Wolfram Mathematica\n",
      "               5 archivos      2.806.870 bytes\n",
      "               7 dirs  87.435.677.696 bytes libres\n"
     ]
    }
   ],
   "source": [
    "%ls"
   ]
  },
  {
   "cell_type": "markdown",
   "metadata": {
    "raw_mimetype": "text/html"
   },
   "source": [
    "Imagen, no se porqué no va **pero más a bajo consigo que salga bien**.\n",
    "<iframe \n",
    "src=\"http://www.ehu.eus/es/\" width=400 height=300></iframe>"
   ]
  },
  {
   "cell_type": "markdown",
   "metadata": {},
   "source": [
    "Un video pero no va **más abajo consigo que salga bien**\n",
    "<iframe src=\"https://www.youtube.com/watch?v=ox09Jko1ErM\" width=400 height=300></iframe>"
   ]
  },
  {
   "cell_type": "markdown",
   "metadata": {},
   "source": [
    "Lo siguiente es para acceder a **cosas mágicas del Notebook de Jupiter**: Desde el estilo de celda Code % se usa para una sola linea mágica y %% para varias lineas mágicas"
   ]
  },
  {
   "cell_type": "code",
   "execution_count": 1,
   "metadata": {
    "collapsed": false
   },
   "outputs": [
    {
     "data": {
      "application/json": {
       "cell": {
        "!": "OSMagics",
        "HTML": "Other",
        "SVG": "Other",
        "bash": "Other",
        "capture": "ExecutionMagics",
        "cmd": "Other",
        "debug": "ExecutionMagics",
        "file": "Other",
        "html": "DisplayMagics",
        "javascript": "DisplayMagics",
        "latex": "DisplayMagics",
        "perl": "Other",
        "prun": "ExecutionMagics",
        "pypy": "Other",
        "python": "Other",
        "python2": "Other",
        "python3": "Other",
        "ruby": "Other",
        "script": "ScriptMagics",
        "sh": "Other",
        "svg": "DisplayMagics",
        "sx": "OSMagics",
        "system": "OSMagics",
        "time": "ExecutionMagics",
        "timeit": "ExecutionMagics",
        "writefile": "OSMagics"
       },
       "line": {
        "alias": "OSMagics",
        "alias_magic": "BasicMagics",
        "autocall": "AutoMagics",
        "automagic": "AutoMagics",
        "autosave": "KernelMagics",
        "bookmark": "OSMagics",
        "cd": "OSMagics",
        "clear": "KernelMagics",
        "cls": "KernelMagics",
        "colors": "BasicMagics",
        "config": "ConfigMagics",
        "connect_info": "KernelMagics",
        "copy": "Other",
        "ddir": "Other",
        "debug": "ExecutionMagics",
        "dhist": "OSMagics",
        "dirs": "OSMagics",
        "doctest_mode": "BasicMagics",
        "echo": "Other",
        "ed": "Other",
        "edit": "KernelMagics",
        "env": "OSMagics",
        "gui": "BasicMagics",
        "hist": "Other",
        "history": "HistoryMagics",
        "install_default_config": "DeprecatedMagics",
        "install_ext": "ExtensionMagics",
        "install_profiles": "DeprecatedMagics",
        "killbgscripts": "ScriptMagics",
        "ldir": "Other",
        "less": "KernelMagics",
        "load": "CodeMagics",
        "load_ext": "ExtensionMagics",
        "loadpy": "CodeMagics",
        "logoff": "LoggingMagics",
        "logon": "LoggingMagics",
        "logstart": "LoggingMagics",
        "logstate": "LoggingMagics",
        "logstop": "LoggingMagics",
        "ls": "Other",
        "lsmagic": "BasicMagics",
        "macro": "ExecutionMagics",
        "magic": "BasicMagics",
        "matplotlib": "PylabMagics",
        "mkdir": "Other",
        "more": "KernelMagics",
        "notebook": "BasicMagics",
        "page": "BasicMagics",
        "pastebin": "CodeMagics",
        "pdb": "ExecutionMagics",
        "pdef": "NamespaceMagics",
        "pdoc": "NamespaceMagics",
        "pfile": "NamespaceMagics",
        "pinfo": "NamespaceMagics",
        "pinfo2": "NamespaceMagics",
        "popd": "OSMagics",
        "pprint": "BasicMagics",
        "precision": "BasicMagics",
        "profile": "BasicMagics",
        "prun": "ExecutionMagics",
        "psearch": "NamespaceMagics",
        "psource": "NamespaceMagics",
        "pushd": "OSMagics",
        "pwd": "OSMagics",
        "pycat": "OSMagics",
        "pylab": "PylabMagics",
        "qtconsole": "KernelMagics",
        "quickref": "BasicMagics",
        "recall": "HistoryMagics",
        "rehashx": "OSMagics",
        "reload_ext": "ExtensionMagics",
        "ren": "Other",
        "rep": "Other",
        "rerun": "HistoryMagics",
        "reset": "NamespaceMagics",
        "reset_selective": "NamespaceMagics",
        "rmdir": "Other",
        "run": "ExecutionMagics",
        "save": "CodeMagics",
        "sc": "OSMagics",
        "set_env": "OSMagics",
        "store": "StoreMagics",
        "sx": "OSMagics",
        "system": "OSMagics",
        "tb": "ExecutionMagics",
        "time": "ExecutionMagics",
        "timeit": "ExecutionMagics",
        "unalias": "OSMagics",
        "unload_ext": "ExtensionMagics",
        "who": "NamespaceMagics",
        "who_ls": "NamespaceMagics",
        "whos": "NamespaceMagics",
        "xdel": "NamespaceMagics",
        "xmode": "BasicMagics"
       }
      },
      "text/plain": [
       "Available line magics:\n",
       "%alias  %alias_magic  %autocall  %automagic  %autosave  %bookmark  %cd  %clear  %cls  %colors  %config  %connect_info  %copy  %ddir  %debug  %dhist  %dirs  %doctest_mode  %echo  %ed  %edit  %env  %gui  %hist  %history  %install_default_config  %install_ext  %install_profiles  %killbgscripts  %ldir  %less  %load  %load_ext  %loadpy  %logoff  %logon  %logstart  %logstate  %logstop  %ls  %lsmagic  %macro  %magic  %matplotlib  %mkdir  %more  %notebook  %page  %pastebin  %pdb  %pdef  %pdoc  %pfile  %pinfo  %pinfo2  %popd  %pprint  %precision  %profile  %prun  %psearch  %psource  %pushd  %pwd  %pycat  %pylab  %qtconsole  %quickref  %recall  %rehashx  %reload_ext  %ren  %rep  %rerun  %reset  %reset_selective  %rmdir  %run  %save  %sc  %set_env  %store  %sx  %system  %tb  %time  %timeit  %unalias  %unload_ext  %who  %who_ls  %whos  %xdel  %xmode\n",
       "\n",
       "Available cell magics:\n",
       "%%!  %%HTML  %%SVG  %%bash  %%capture  %%cmd  %%debug  %%file  %%html  %%javascript  %%latex  %%perl  %%prun  %%pypy  %%python  %%python2  %%python3  %%ruby  %%script  %%sh  %%svg  %%sx  %%system  %%time  %%timeit  %%writefile\n",
       "\n",
       "Automagic is ON, % prefix IS NOT needed for line magics."
      ]
     },
     "execution_count": 1,
     "metadata": {},
     "output_type": "execute_result"
    }
   ],
   "source": [
    "%lsmagic"
   ]
  },
  {
   "cell_type": "markdown",
   "metadata": {},
   "source": [
    "por ejemplo lo siguiente es para que saque el output como Latex"
   ]
  },
  {
   "cell_type": "code",
   "execution_count": 32,
   "metadata": {
    "collapsed": true
   },
   "outputs": [],
   "source": [
    "from numpy import*\n",
    "from sympy import*"
   ]
  },
  {
   "cell_type": "code",
   "execution_count": 33,
   "metadata": {
    "collapsed": true
   },
   "outputs": [],
   "source": [
    "init_printing()"
   ]
  },
  {
   "cell_type": "code",
   "execution_count": 40,
   "metadata": {
    "collapsed": false
   },
   "outputs": [
    {
     "data": {
      "image/png": "[encoded data removed]",
      "text/latex": [
       "$$\\frac{1}{x^{2}} \\sin{\\left (x \\right )}$$"
      ],
      "text/plain": [
       "sin(x)\n",
       "──────\n",
       "   2  \n",
       "  x   "
      ]
     },
     "execution_count": 40,
     "metadata": {},
     "output_type": "execute_result"
    }
   ],
   "source": [
    "x=Symbol('x')\n",
    "y=Symbol('y')\n",
    "(sin(x))/(x**2)"
   ]
  },
  {
   "cell_type": "code",
   "execution_count": 7,
   "metadata": {
    "collapsed": false
   },
   "outputs": [
    {
     "data": {
      "text/latex": [
       "$\\dfrac{\\sin(x)}{\\cos(x)}$"
      ],
      "text/plain": [
       "<IPython.core.display.Latex object>"
      ]
     },
     "metadata": {},
     "output_type": "display_data"
    }
   ],
   "source": [
    "%%latex\n",
    "$\\dfrac{\\sin(x)}{\\cos(x)}$"
   ]
  },
  {
   "cell_type": "code",
   "execution_count": 42,
   "metadata": {
    "collapsed": false
   },
   "outputs": [
    {
     "data": {
      "text/latex": [
       "$$\n",
       "\\phantom{xxxxxxxxxxxxxxxxxxxxxxxxxxxxxxxxxxxxx}f(x)=\\begin{cases}\n",
       "a x^2-2 & x=0 \\\\\n",
       "3x+5 & x<=0 \n",
       "\\end{cases} \\phantom{xxxxx}\n",
       "$$\n",
       "es la ecuación básica"
      ],
      "text/plain": [
       "<IPython.core.display.Latex object>"
      ]
     },
     "metadata": {},
     "output_type": "display_data"
    }
   ],
   "source": [
    "%%latex\n",
    "$$\n",
    "\\phantom{xxxxxxxxxxxxxxxxxxxxxxxxxxxxxxxxxxxxx}f(x)=\\begin{cases}\n",
    "a x^2-2 & x=0 \\\\\n",
    "3x+5 & x<=0 \n",
    "\\end{cases} \\phantom{xxxxx}\n",
    "$$\n",
    "es la ecuación básica"
   ]
  },
  {
   "cell_type": "code",
   "execution_count": 43,
   "metadata": {
    "collapsed": false
   },
   "outputs": [
    {
     "data": {
      "text/html": [
       "<h1>Esta imagen sí que sale bien</h1>\n",
       "<center><image src=\"/files/rana.png\" width=100 height=200></image></center>"
      ],
      "text/plain": [
       "<IPython.core.display.HTML object>"
      ]
     },
     "metadata": {},
     "output_type": "display_data"
    }
   ],
   "source": [
    "%%HTML\n",
    "<h1>Esta imagen sí que sale bien</h1>\n",
    "<center><image src=\"/files/rana.png\" width=100 height=200></image></center>\n"
   ]
  },
  {
   "cell_type": "code",
   "execution_count": 44,
   "metadata": {
    "collapsed": false
   },
   "outputs": [
    {
     "data": {
      "text/html": [
       "<h1>Este video si que sale bien</h1>\n",
       "<center><iframe width=\"400\" height=\"200\" src=\"https://www.youtube.com/embed/ox09Jko1ErM\" \n",
       " frameborder=\"0\" allowfullscreen></iframe></center>"
      ],
      "text/plain": [
       "<IPython.core.display.HTML object>"
      ]
     },
     "metadata": {},
     "output_type": "display_data"
    }
   ],
   "source": [
    "%%HTML\n",
    "<h1>Este video si que sale bien</h1>\n",
    "<center><iframe width=\"400\" height=\"200\" src=\"https://www.youtube.com/embed/ox09Jko1ErM\" \n",
    " frameborder=\"0\" allowfullscreen></iframe></center>"
   ]
  },
  {
   "cell_type": "markdown",
   "metadata": {},
   "source": [
    "Lo siguiente la verdad es que guarda un fichero pero lo veo como html"
   ]
  },
  {
   "cell_type": "code",
   "execution_count": 53,
   "metadata": {
    "collapsed": false
   },
   "outputs": [
    {
     "name": "stdout",
     "output_type": "stream",
     "text": [
      "Writing lecturaescritura.txt\n"
     ]
    }
   ],
   "source": [
    "%%writefile lecturaescritura.txt\n",
    "esta es la primera linea\n",
    "23\n",
    "esta es la tercera linea\n",
    "-56 pies\n",
    "esta es la última línea"
   ]
  },
  {
   "cell_type": "markdown",
   "metadata": {},
   "source": [
    "Si quieres **descargar un fichero de Dropbox** puedes hacer lo siguiente: Se generará un link y luego con botón derecho abrir nueva pestaña y te dirige al dropbox donde lo puedes descargar."
   ]
  },
  {
   "cell_type": "code",
   "execution_count": 1,
   "metadata": {
    "collapsed": false
   },
   "outputs": [
    {
     "data": {
      "text/html": [
       "<a href=\"https://www.dropbox.com/s/esv0jkqkksaxv6i/Notak1.Partziala.MatematikAplikatua.docx?dl=0\" \n",
       " download=\"fichero\">\n",
       " Descargar Archivo\n",
       "</a>"
      ],
      "text/plain": [
       "<IPython.core.display.HTML object>"
      ]
     },
     "metadata": {},
     "output_type": "display_data"
    }
   ],
   "source": [
    "%%HTML\n",
    "<a href=\"https://www.dropbox.com/s/esv0jkqkksaxv6i/Notak1.Partziala.MatematikAplikatua.docx?dl=0\" \n",
    " download=\"fichero\">\n",
    " Descargar Archivo\n",
    "</a>\n"
   ]
  },
  {
   "cell_type": "code",
   "execution_count": 2,
   "metadata": {
    "collapsed": true
   },
   "outputs": [],
   "source": [
    "%matplotlib inline\n",
    "import matplotlib.pyplot as plt"
   ]
  },
  {
   "cell_type": "code",
   "execution_count": 4,
   "metadata": {
    "collapsed": false
   },
   "outputs": [
    {
     "data": {
      "text/plain": [
       "[<matplotlib.lines.Line2D at 0x809d4a8>]"
      ]
     },
     "execution_count": 4,
     "metadata": {},
     "output_type": "execute_result"
    },
    {
     "data": {
      "image/png": "[encoded data removed]",
      "text/plain": [
       "<matplotlib.figure.Figure at 0x76a19e8>"
      ]
     },
     "metadata": {},
     "output_type": "display_data"
    }
   ],
   "source": [
    "plt.plot([1,2,3])"
   ]
  },
  {
   "cell_type": "markdown",
   "metadata": {
    "collapsed": true
   },
   "source": [
    "## Uso bonito de las excepciones"
   ]
  },
  {
   "cell_type": "code",
   "execution_count": 5,
   "metadata": {
    "collapsed": true
   },
   "outputs": [],
   "source": [
    "def fibo(n):\n",
    "    try:\n",
    "        assert(n>0)\n",
    "        assert(n<20)\n",
    "    except AssertionError:\n",
    "        raise ValueError(\"valores entre 0 y 20\")\n",
    "    a=0\n",
    "    b=1\n",
    "    salida=[]\n",
    "    for x in range(n):\n",
    "        salida.append(b)\n",
    "        a,b=b,a+b\n",
    "    return salida\n",
    "    \n",
    "def main():\n",
    "    \"\"\"docstring o documentación de la función\"\"\"\n",
    "    try:\n",
    "        num=input('sartu un numero majeta \\n')\n",
    "        num=int(num)\n",
    "        print(fibo(num))\n",
    "    except ValueError:\n",
    "        print('has metido un valor incorrecto y debe de estar entre 0 y 20')\n",
    "        "
   ]
  },
  {
   "cell_type": "code",
   "execution_count": 6,
   "metadata": {
    "collapsed": false
   },
   "outputs": [
    {
     "name": "stdout",
     "output_type": "stream",
     "text": [
      "sartu un numero majeta \n",
      "23\n",
      "has metido un valor incorrecto y debe de estar entre 0 y 20\n"
     ]
    }
   ],
   "source": [
    "main()"
   ]
  },
  {
   "cell_type": "code",
   "execution_count": 15,
   "metadata": {
    "collapsed": false
   },
   "outputs": [
    {
     "name": "stdout",
     "output_type": "stream",
     "text": [
      "sartu un numero majeta \n",
      "12\n",
      "[1, 1, 2, 3, 5, 8, 13, 21, 34, 55, 89, 144]\n"
     ]
    }
   ],
   "source": [
    "main()"
   ]
  },
  {
   "cell_type": "code",
   "execution_count": 16,
   "metadata": {
    "collapsed": true
   },
   "outputs": [],
   "source": [
    "main? # esto es especifico de Ipython y te devuelve informacion de la funcion"
   ]
  },
  {
   "cell_type": "code",
   "execution_count": 19,
   "metadata": {
    "collapsed": false
   },
   "outputs": [],
   "source": [
    "import scipy as sc"
   ]
  },
  {
   "cell_type": "code",
   "execution_count": 20,
   "metadata": {
    "collapsed": true
   },
   "outputs": [],
   "source": [
    "import numpy as np"
   ]
  },
  {
   "cell_type": "code",
   "execution_count": 21,
   "metadata": {
    "collapsed": true
   },
   "outputs": [],
   "source": [
    "import matplotlib as mt"
   ]
  },
  {
   "cell_type": "code",
   "execution_count": 45,
   "metadata": {
    "collapsed": false
   },
   "outputs": [
    {
     "name": "stderr",
     "output_type": "stream",
     "text": [
      "C:\\Users\\mapgaurf\\AppData\\Local\\Continuum\\Anaconda3\\lib\\site-packages\\IPython\\extensions\\rmagic.py:11: UserWarning: The rmagic extension in IPython has moved to `rpy2.ipython`, please see `rpy2` documentation.\n",
      "  warnings.warn(\"The rmagic extension in IPython has moved to \"\n"
     ]
    }
   ],
   "source": [
    "%load_ext rmagic"
   ]
  }
 ],
 "metadata": {
  "celltoolbar": "Raw Cell Format",
  "kernelspec": {
   "display_name": "Python 3",
   "language": "python",
   "name": "python3"
  },
  "language_info": {
   "codemirror_mode": {
    "name": "ipython",
    "version": 3
   },
   "file_extension": ".py",
   "mimetype": "text/x-python",
   "name": "python",
   "nbconvert_exporter": "python",
   "pygments_lexer": "ipython3",
   "version": "3.5.1"
  }
 },
 "nbformat": 4,
 "nbformat_minor": 0
}
